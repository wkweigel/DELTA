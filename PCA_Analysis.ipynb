{
 "cells": [
  {
   "attachments": {},
   "cell_type": "markdown",
   "metadata": {},
   "source": [
    "Import the local PCA module"
   ]
  },
  {
   "cell_type": "code",
   "execution_count": null,
   "metadata": {},
   "outputs": [],
   "source": [
    "import sys\n",
    "sys.path.append('./Modules')\n",
    "from PCA import PCA\n",
    "import altair as alt\n",
    "alt.data_transformers.disable_max_rows()\n",
    "\n"
   ]
  },
  {
   "attachments": {},
   "cell_type": "markdown",
   "metadata": {},
   "source": [
    "Set the file path"
   ]
  },
  {
   "cell_type": "code",
   "execution_count": null,
   "metadata": {},
   "outputs": [],
   "source": [
    "#csv file should have at least two populated columns titled \"ID\" and \"Smiles\"\n",
    "input_filepath = 'Notebook Outputs/Combined_DELs.csv' \n",
    "\n",
    "#Create an output csv files \n",
    "create_output=True"
   ]
  },
  {
   "attachments": {},
   "cell_type": "markdown",
   "metadata": {},
   "source": [
    "ECFP6"
   ]
  },
  {
   "cell_type": "code",
   "execution_count": null,
   "metadata": {},
   "outputs": [],
   "source": [
    "Datafile=input_filepath\n",
    "nBits=1024\n",
    "\n",
    "ECFP6_fp=PCA(Datafile, 'ECFP6', nBits)\n",
    "ECFP6_fp.TwoDimensionalPCA()\n",
    "ECFP6_fp.PlotPCA()\n",
    "\n",
    "ECFP6_fp.PCA_charts\n",
    "\n",
    "if create_output is True:\n",
    "    ECFP6_fp.csv_output()"
   ]
  },
  {
   "attachments": {},
   "cell_type": "markdown",
   "metadata": {},
   "source": [
    "ECFP4"
   ]
  },
  {
   "cell_type": "code",
   "execution_count": null,
   "metadata": {},
   "outputs": [],
   "source": [
    "Datafile=input_filepath\n",
    "nBits=1024\n",
    "\n",
    "ECFP4_fp=PCA(Datafile, 'ECFP4', nBits)\n",
    "ECFP4_fp.TwoDimensionalPCA()\n",
    "ECFP4_fp.PlotPCA()\n",
    "\n",
    "ECFP4_fp.PCA_charts\n",
    "\n",
    "if create_output is True:\n",
    "    ECFP4_fp.csv_output()"
   ]
  },
  {
   "attachments": {},
   "cell_type": "markdown",
   "metadata": {},
   "source": [
    "MHFP6"
   ]
  },
  {
   "cell_type": "code",
   "execution_count": null,
   "metadata": {},
   "outputs": [],
   "source": [
    "Datafile=input_filepath\n",
    "nBits=1024\n",
    "\n",
    "MHFP6_fp=PCA(Datafile, 'MHFP6', nBits)\n",
    "MHFP6_fp.TwoDimensionalPCA()\n",
    "MHFP6_fp.PlotPCA()\n",
    "\n",
    "MHFP6_fp.PCA_charts\n",
    "\n",
    "if create_output is True:\n",
    "    MHFP6_fp.csv_output()"
   ]
  },
  {
   "attachments": {},
   "cell_type": "markdown",
   "metadata": {},
   "source": [
    "MXFP"
   ]
  },
  {
   "cell_type": "code",
   "execution_count": null,
   "metadata": {},
   "outputs": [],
   "source": [
    "Datafile=input_filepath\n",
    "nBits=1024\n",
    "\n",
    "MXFP_fp=PCA(Datafile, 'MXFP', nBits)\n",
    "MXFP_fp.TwoDimensionalPCA()\n",
    "MXFP_fp.PlotPCA()\n",
    "\n",
    "MXFP_fp.PCA_charts\n",
    "\n",
    "if create_output is True:\n",
    "    MXFP_fp.csv_output()"
   ]
  },
  {
   "attachments": {},
   "cell_type": "markdown",
   "metadata": {},
   "source": [
    "MACCS"
   ]
  },
  {
   "cell_type": "code",
   "execution_count": null,
   "metadata": {},
   "outputs": [],
   "source": [
    "Datafile=input_filepath\n",
    "nBits=1024\n",
    "\n",
    "MACCS_fp=PCA(Datafile, 'MACCS', nBits)\n",
    "MACCS_fp.TwoDimensionalPCA()\n",
    "MACCS_fp.PlotPCA()\n",
    "\n",
    "MACCS_fp.PCA_charts\n",
    "\n",
    "if create_output is True:\n",
    "    MACCS_fp.csv_output()"
   ]
  },
  {
   "attachments": {},
   "cell_type": "markdown",
   "metadata": {},
   "source": [
    "MQN"
   ]
  },
  {
   "cell_type": "code",
   "execution_count": null,
   "metadata": {},
   "outputs": [],
   "source": [
    "Datafile=input_filepath\n",
    "nBits=1024\n",
    "\n",
    "MQN_fp=PCA(Datafile, 'MQN', nBits)\n",
    "MQN_fp.TwoDimensionalPCA()\n",
    "MQN_fp.PlotPCA()\n",
    "\n",
    "if create_output is True:\n",
    "    MQN_fp.csv_output()\n"
   ]
  },
  {
   "attachments": {},
   "cell_type": "markdown",
   "metadata": {},
   "source": [
    "AP"
   ]
  },
  {
   "cell_type": "code",
   "execution_count": null,
   "metadata": {},
   "outputs": [],
   "source": [
    "Datafile=input_filepath\n",
    "nBits=1024\n",
    "\n",
    "AP_fp=PCA(Datafile, 'AP', nBits)\n",
    "AP_fp.TwoDimensionalPCA()\n",
    "AP_fp.PlotPCA()\n",
    "\n",
    "AP_fp.PCA_charts\n",
    "\n",
    "if create_output is True:\n",
    "    AP_fp.csv_output()"
   ]
  },
  {
   "attachments": {},
   "cell_type": "markdown",
   "metadata": {},
   "source": [
    "MAP4 <br>\n",
    "<i>(See https://github.com/reymond-group/map4 for the required prerequisites)</i>"
   ]
  },
  {
   "cell_type": "code",
   "execution_count": null,
   "metadata": {},
   "outputs": [],
   "source": [
    "Datafile=input_filepath\n",
    "nBits=1024\n",
    "\n",
    "MAP4_fp=PCA(Datafile, 'MAP4', nBits)\n",
    "MAP4_fp.TwoDimensionalPCA()\n",
    "MAP4_fp.PlotPCA()\n",
    "\n",
    "MAP4_fp.PCA_charts\n",
    "\n",
    "if create_output is True:\n",
    "    MAP4_fp.csv_output()"
   ]
  },
  {
   "attachments": {},
   "cell_type": "markdown",
   "metadata": {},
   "source": [
    "Do PCA with all fingerprints and compare plots side by side"
   ]
  },
  {
   "cell_type": "code",
   "execution_count": null,
   "metadata": {},
   "outputs": [],
   "source": [
    "Datafile=input_filepath\n",
    "nBits=1024\n",
    "\n",
    "ECFP6_fp=PCA(Datafile, 'ECFP6', nBits)\n",
    "ECFP6_fp.TwoDimensionalPCA()\n",
    "ECFP6_fp.PlotPCA()\n",
    "\n",
    "MHFP6_fp=PCA(Datafile, 'MHFP6', nBits)\n",
    "MHFP6_fp.TwoDimensionalPCA()\n",
    "MHFP6_fp.PlotPCA()\n",
    "\n",
    "MXFP_fp=PCA(Datafile, 'MXFP', nBits)\n",
    "MXFP_fp.TwoDimensionalPCA()\n",
    "MXFP_fp.PlotPCA()\n",
    "\n",
    "MACCS_fp=PCA(Datafile, 'MACCS', nBits)\n",
    "MACCS_fp.TwoDimensionalPCA()\n",
    "MACCS_fp.PlotPCA()\n",
    "\n",
    "MQN_fp=PCA(Datafile, 'MQN', nBits)\n",
    "MQN_fp.TwoDimensionalPCA()\n",
    "MQN_fp.PlotPCA()\n",
    "\n",
    "AP_fp=PCA(Datafile, 'AP', nBits)\n",
    "AP_fp.TwoDimensionalPCA()\n",
    "AP_fp.PlotPCA()\n",
    "\n",
    "alt.data_transformers.disable_max_rows()\n",
    "\n",
    "PCA_sets = alt.vconcat(ECFP6_fp.PCA_charts, MHFP6_fp.PCA_charts, MXFP_fp.PCA_charts, MACCS_fp.PCA_charts, MQN_fp.PCA_charts, AP_fp.PCA_charts )\n",
    "\n",
    "PCA_sets"
   ]
  },
  {
   "attachments": {},
   "cell_type": "markdown",
   "metadata": {},
   "source": [
    "Create overlay plots"
   ]
  },
  {
   "cell_type": "code",
   "execution_count": null,
   "metadata": {},
   "outputs": [],
   "source": [
    "ECFP6_fp.PlotOverlayPCA()\n",
    "\n",
    "MHFP6_fp.PlotOverlayPCA()\n",
    "\n",
    "MXFP_fp.PlotOverlayPCA()\n",
    "\n",
    "MACCS_fp.PlotOverlayPCA()\n",
    "\n",
    "MQN_fp.PlotOverlayPCA()\n",
    "\n",
    "AP_fp.PlotOverlayPCA()\n",
    "\n",
    "alt.data_transformers.disable_max_rows()\n",
    "\n",
    "PCA_Overlay_set1 =  ECFP6_fp.PCA_Overlay_chart  | MHFP6_fp.PCA_Overlay_chart | MXFP_fp.PCA_Overlay_chart \n",
    "PCA_Overlay_set2 = MACCS_fp.PCA_Overlay_chart | MQN_fp.PCA_Overlay_chart  | AP_fp.PCA_Overlay_chart \n",
    "PCA_Overlay_plots= alt.vconcat(PCA_Overlay_set1, PCA_Overlay_set2)\n",
    "\n",
    "PCA_Overlay_plots"
   ]
  }
 ],
 "metadata": {
  "kernelspec": {
   "display_name": "my-rdkit-env",
   "language": "python",
   "name": "python3"
  },
  "language_info": {
   "codemirror_mode": {
    "name": "ipython",
    "version": 3
   },
   "file_extension": ".py",
   "mimetype": "text/x-python",
   "name": "python",
   "nbconvert_exporter": "python",
   "pygments_lexer": "ipython3",
   "version": "3.10.4"
  },
  "orig_nbformat": 4
 },
 "nbformat": 4,
 "nbformat_minor": 2
}
