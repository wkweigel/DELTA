{
 "cells": [
  {
   "attachments": {},
   "cell_type": "markdown",
   "metadata": {},
   "source": [
    "Create Libraries from a set of building block csv input files:<br>\n",
    "-BuildingBlocks.csv (BB smiles and BB IDs) <br>\n",
    "-Library BB file   (The BBs to use for each elemement in a library. Located in \"Library BB Groups\" folder)<br><br>\n",
    "\n",
    "Library assembly is performed as a virtual analogue of the series of synthetic transformtions that would be used to crerate the library in real life.<br>\n",
    "Synthetic steps are performed starting with the DNA attachement point. Here, a methyl carboxamide is used as the \"mock\" DNA. <br><br>\n",
    "The virtual synthesis is carried out according to a specfically formatted input string in the form:<br>\n",
    "&nbsp;&nbsp;&nbsp;&nbsp;&nbsp;&nbsp;|A|\\<RxnID\\>|B|\\<RxnID\\>|C|...<br>\n",
    "\n",
    "&nbsp;&nbsp;&nbsp;&nbsp;&nbsp;&nbsp;where:<br>\n",
    "&nbsp;&nbsp;&nbsp;&nbsp;&nbsp;&nbsp;&nbsp;&nbsp;&nbsp;&nbsp;&nbsp;&nbsp;<b>|X|</b> denotes an ordered set of BBs to be used at the given position<br>\n",
    "&nbsp;&nbsp;&nbsp;&nbsp;&nbsp;&nbsp;&nbsp;&nbsp;&nbsp;&nbsp;&nbsp;&nbsp;<b>\\<RxnID\\></b> denotes a specific reaction protocol to be iteratively applied to the BB sets on each side.<br><br>\n",
    "\n",
    "Moving left to right, each additional reaction is performed on the growing synthetic intermediate from the preceeding steps.<br>\n",
    "More formally, the string \"<b>|A|\\<R2\\>|B|\\<R2\\>|C|\\<R1\\>|D|</b>\" is interpreted as the following three-step reaction series: <br>\n",
    "&nbsp;&nbsp;&nbsp;&nbsp;&nbsp;&nbsp;|A|\\<R2\\>|B|<br>\n",
    "&nbsp;&nbsp;&nbsp;&nbsp;&nbsp;&nbsp;|[AB]|\\<R2\\>|C|<br>\n",
    "&nbsp;&nbsp;&nbsp;&nbsp;&nbsp;&nbsp;|ABC|\\<R1\\>|D|<br><br>\n",
    "\n",
    "Reaction IDs used in this notebook:<br>\n",
    "&nbsp;&nbsp;&nbsp;&nbsp;&nbsp;&nbsp;R1- Amide bond formation<br>\n",
    "&nbsp;&nbsp;&nbsp;&nbsp;&nbsp;&nbsp;R2 - Amide bond formation followed by Boc deprotection<br>\n",
    "&nbsp;&nbsp;&nbsp;&nbsp;&nbsp;&nbsp;R3 - Amide bond formation followed by Fmoc deprotection<br>\n",
    "&nbsp;&nbsp;&nbsp;&nbsp;&nbsp;&nbsp;R4 - Intramolecular amide bond formation<br>\n"
   ]
  },
  {
   "cell_type": "code",
   "execution_count": null,
   "metadata": {},
   "outputs": [],
   "source": [
    "import Modules.SetGenerators\n",
    "import Modules.DELTARxns\n",
    "import pandas as pd\n",
    "\n",
    "class CombinedOutput:\n",
    "    def __init__(self):\n",
    "        self.combined_df=pd.DataFrame()\n",
    "    def Add_Output(self, Data):\n",
    "        self.combined_df=pd.concat([self.combined_df,Data], axis=0)\n",
    "        \n",
    "AllData=CombinedOutput()\n"
   ]
  },
  {
   "attachments": {},
   "cell_type": "markdown",
   "metadata": {},
   "source": [
    "AB - 2 Cycle Linear "
   ]
  },
  {
   "cell_type": "code",
   "execution_count": null,
   "metadata": {},
   "outputs": [],
   "source": [
    "#USER INPUTS\n",
    "DELTARxns.complex_string='|A|<R1>|B|'\n",
    "DELTARxns.DELname='AB'\n",
    "\n",
    "DEL=SetGenerators.BBset('Library BB Groups/AB_L.csv')\n",
    "DELTARxns.BB_IDs_path= \"BuildingBlocks.csv\"\n",
    "output_path=\"Notebook Outputs/AB_L_Output.csv\"\n",
    "\n",
    "\n",
    "#Generate the BB sets \n",
    "DELTARxns.Random_df=DEL.make_random_set(1000)\n",
    "\n",
    "#Map the reagents to thier intended reactivity type (Amine=NH, Carboxylic Acid=CA)\n",
    "DELTARxns.type_dict={'A':'A_NH','B':'B_CA','C':'C_CA','D': 'D_CA','Z':'Int_NH'}\n",
    "\n",
    "#Class object creation for each reaction\n",
    "global temp_prod\n",
    "DELTARxns.products=DELTARxns.rxn_products()\n",
    "DELTARxns.products2=DELTARxns.rxn_products()\n",
    "DELTARxns.temp_prod=DELTARxns.temp_products()\n",
    "\n",
    "AB_L_output=DELTARxns.run_reaction()\n",
    "\n",
    "AB_L_output.to_csv(output_path)\n",
    "AllData.Add_Output(AB_L_output)"
   ]
  },
  {
   "attachments": {},
   "cell_type": "markdown",
   "metadata": {},
   "source": [
    "Ab(C) - 2 Cycle Branched "
   ]
  },
  {
   "cell_type": "code",
   "execution_count": null,
   "metadata": {},
   "outputs": [],
   "source": [
    "#USER INPUTS\n",
    "DELTARxns.complex_string='|A|<R2>|B|<R1>|C|'\n",
    "DELTARxns.DELname='AbC'\n",
    "\n",
    "DEL=SetGenerators.BBset('Library BB Groups/AB_B.csv')\n",
    "DELTARxns.BB_IDs_path= \"BuildingBlocks.csv\"\n",
    "output_path=\"Notebook Outputs/AB_B_Output.csv\"\n",
    "\n",
    "\n",
    "#Generate the BB sets \n",
    "DELTARxns.Random_df=DEL.make_random_set(1000)\n",
    "\n",
    "#Map the reagents to thier intended reactivity type (Amine=NH, Carboxylic Acid=CA)\n",
    "DELTARxns.type_dict={'A':'A_NH','B':'B_CA','C':'C_CA','D': 'D_CA','Z':'Int_NH'}\n",
    "\n",
    "#Class object creation for each reaction\n",
    "global temp_prod\n",
    "DELTARxns.products=DELTARxns.rxn_products()\n",
    "DELTARxns.products2=DELTARxns.rxn_products()\n",
    "DELTARxns.temp_prod=DELTARxns.temp_products()\n",
    "\n",
    "AB_B_output=DELTARxns.run_reaction()\n",
    "\n",
    "AB_B_output.to_csv(output_path)\n",
    "AllData.Add_Output(AB_B_output)"
   ]
  },
  {
   "attachments": {},
   "cell_type": "markdown",
   "metadata": {},
   "source": [
    "!AbC! - 2 Cycle Cyclic"
   ]
  },
  {
   "cell_type": "code",
   "execution_count": null,
   "metadata": {},
   "outputs": [],
   "source": [
    "#USER INPUTS\n",
    "DELTARxns.complex_string='|A|<R2>|B|<R2>|C|<R2>|D|'\n",
    "DELTARxns.DELname='!AbC!'\n",
    "\n",
    "DEL=SetGenerators.BBset('Library BB Groups/AB_C.csv')\n",
    "DELTARxns.BB_IDs_path= \"BuildingBlocks.csv\"\n",
    "output_path=\"Notebook Outputs/CyclicAbC_Output.csv\"\n",
    "\n",
    "\n",
    "\n",
    "#Generate the BB sets \n",
    "DELTARxns.Random_df=DEL.make_random_set(1000)\n",
    "\n",
    "#Map the reagents to thier intended reactivity type (Amine=NH, Carboxylic Acid=CA)\n",
    "DELTARxns.type_dict={'A':'A_NH','B':'B_CA','C':'C_CA','D': 'D_CA','Z':'Int_NH'}\n",
    "\n",
    "#Class object creation for each reaction\n",
    "global temp_prod\n",
    "DELTARxns.products=DELTARxns.rxn_products()\n",
    "DELTARxns.products2=DELTARxns.rxn_products()\n",
    "DELTARxns.temp_prod=DELTARxns.temp_products()\n",
    "\n",
    "output_df=DELTARxns.run_reaction()\n",
    "\n",
    "global IDs\n",
    "IDs=DELTARxns.prod_dict.keys()\n",
    "output_df['PreCycle']=DELTARxns.final_deprotection(output_df['Smiles'], PG='ester')\n",
    "precyle_list=output_df['PreCycle'].values.tolist()\n",
    "output_df['Cycle']=DELTARxns.R4(precyle_list)\n",
    "\n",
    "CyclicAbC_output_df=output_df.loc[:, ['DEL','ID']]\n",
    "CyclicAbC_output_df['Smiles']=output_df['Cycle']\n",
    "output_df.to_csv(output_path)\n",
    "AllData.Add_Output(CyclicAbC_output_df)"
   ]
  },
  {
   "attachments": {},
   "cell_type": "markdown",
   "metadata": {},
   "source": [
    "ABC - 3 Cycle Linear"
   ]
  },
  {
   "cell_type": "code",
   "execution_count": null,
   "metadata": {},
   "outputs": [],
   "source": [
    "#USER INPUTS\n",
    "DELTARxns.complex_string='|A|<R2>|B|<R1>|C|'\n",
    "DELTARxns.DELname='ABC'\n",
    "\n",
    "DEL=SetGenerators.BBset('Library BB Groups/ABC_L.csv')\n",
    "DELTARxns.BB_IDs_path= \"BuildingBlocks.csv\"\n",
    "output_path=\"Notebook Outputs/ABC_L_Output.csv\"\n",
    "\n",
    "\n",
    "\n",
    "#Generate the BB sets \n",
    "DELTARxns.Random_df=DEL.make_random_set(1000)\n",
    "\n",
    "#Map the reagents to thier intended reactivity type (Amine=NH, Carboxylic Acid=CA)\n",
    "DELTARxns.type_dict={'A':'A_NH','B':'B_CA','C':'C_CA','D': 'D_CA','Z':'Int_NH'}\n",
    "\n",
    "#Class object creation for each reaction\n",
    "global temp_prod\n",
    "DELTARxns.products=DELTARxns.rxn_products()\n",
    "DELTARxns.products2=DELTARxns.rxn_products()\n",
    "DELTARxns.temp_prod=DELTARxns.temp_products()\n",
    "\n",
    "ABC_output_df=DELTARxns.run_reaction()\n",
    "\n",
    "ABC_output_df.to_csv(output_path)\n",
    "AllData.Add_Output(ABC_output_df)"
   ]
  },
  {
   "attachments": {},
   "cell_type": "markdown",
   "metadata": {},
   "source": [
    "AB(C) - 3 Cycle Branched"
   ]
  },
  {
   "cell_type": "code",
   "execution_count": null,
   "metadata": {},
   "outputs": [],
   "source": [
    "#USER INPUTS\n",
    "DELTARxns.complex_string='|A|<R3>|B|<R1>|C|'\n",
    "DELTARxns.DELname='AB(C)'\n",
    "\n",
    "DEL=SetGenerators.BBset('Library BB Groups/ABC_B.csv')\n",
    "DELTARxns.BB_IDs_path= \"BuildingBlocks.csv\"\n",
    "output_path=\"Notebook Outputs/ABC_B_Output.csv\"\n",
    "\n",
    "\n",
    "\n",
    "#Generate the BB sets \n",
    "DELTARxns.Random_df=DEL.make_random_set(1000)\n",
    "\n",
    "#Map the reagents to thier intended reactivity type (Amine=NH, Carboxylic Acid=CA)\n",
    "DELTARxns.type_dict={'A':'A_NH','B':'B_CA','C':'C_CA','D': 'D_CA','Z':'Int_NH'}\n",
    "\n",
    "#Class object creation for each reaction\n",
    "global temp_prod\n",
    "DELTARxns.products=DELTARxns.rxn_products()\n",
    "DELTARxns.products2=DELTARxns.rxn_products()\n",
    "DELTARxns.temp_prod=DELTARxns.temp_products()\n",
    "\n",
    "ABC_B_output_df=DELTARxns.run_reaction()\n",
    "\n",
    "ABC_B_output_df.to_csv(output_path)\n",
    "AllData.Add_Output(ABC_B_output_df)"
   ]
  },
  {
   "attachments": {},
   "cell_type": "markdown",
   "metadata": {},
   "source": [
    "!ABC! - 3 Cycle Cyclic"
   ]
  },
  {
   "cell_type": "code",
   "execution_count": null,
   "metadata": {},
   "outputs": [],
   "source": [
    "#USER INPUTS\n",
    "DELTARxns.complex_string='|A|<R2>|B|<R2>|C|<R2>|D|'\n",
    "DELTARxns.DELname='!ABC!'\n",
    "\n",
    "DEL=SetGenerators.BBset('Library BB Groups/ABC_C.csv')\n",
    "DELTARxns.BB_IDs_path= \"BuildingBlocks.csv\"\n",
    "output_path=\"Notebook Outputs/ABC_C_Output.csv\"\n",
    "\n",
    "\n",
    "\n",
    "#Generate the BB sets \n",
    "DELTARxns.Random_df=DEL.make_random_set(1000)\n",
    "\n",
    "#Map the reagents to thier intended reactivity type (Amine=NH, Carboxylic Acid=CA)\n",
    "DELTARxns.type_dict={'A':'A_NH','B':'B_CA','C':'C_CA','D': 'D_CA','Z':'Int_NH'}\n",
    "\n",
    "#Class object creation for each reaction\n",
    "global temp_prod\n",
    "DELTARxns.products=DELTARxns.rxn_products()\n",
    "DELTARxns.products2=DELTARxns.rxn_products()\n",
    "DELTARxns.temp_prod=DELTARxns.temp_products()\n",
    "\n",
    "output_df=DELTARxns.run_reaction()\n",
    "\n",
    "global IDs\n",
    "IDs=DELTARxns.prod_dict.keys()\n",
    "output_df['PreCycle']=DELTARxns.final_deprotection(output_df['Smiles'], PG='ester')\n",
    "precyle_list=output_df['PreCycle'].values.tolist()\n",
    "output_df['Cycle']=DELTARxns.R4(precyle_list)\n",
    "\n",
    "ABC_C_output_df=output_df.loc[:,['DEL','ID']]\n",
    "ABC_C_output_df['Smiles']=output_df['Cycle']\n",
    "output_df.to_csv(output_path)\n",
    "AllData.Add_Output(ABC_C_output_df)"
   ]
  },
  {
   "attachments": {},
   "cell_type": "markdown",
   "metadata": {},
   "source": [
    "ABCD - 4 Cycle Linear"
   ]
  },
  {
   "cell_type": "code",
   "execution_count": null,
   "metadata": {},
   "outputs": [],
   "source": [
    "#USER INPUTS\n",
    "\n",
    "DELTARxns.complex_string='|A|<R2>|B|<R2>|C|<R1>|D|'\n",
    "DELTARxns.DELname='ABCD'\n",
    "\n",
    "DEL=SetGenerators.BBset('Library BB Groups/ABCD_L.csv')\n",
    "DELTARxns.BB_IDs_path= \"BuildingBlocks.csv\"\n",
    "output_path=\"Notebook Outputs/ABCD_L_Output.csv\"\n",
    "\n",
    "#Generate the BB sets \n",
    "DELTARxns.Random_df=DEL.make_random_set(1000)\n",
    "\n",
    "#Map the reagents to thier intended reactivity type (Amine=NH, Carboxylic Acid=CA)\n",
    "DELTARxns.type_dict={'A':'A_NH','B':'B_CA','C':'C_CA','D': 'D_CA','Z':'Int_NH'}\n",
    "\n",
    "#Class object creation for each reaction\n",
    "global temp_prod\n",
    "DELTARxns.products=DELTARxns.rxn_products()\n",
    "DELTARxns.products2=DELTARxns.rxn_products()\n",
    "DELTARxns.temp_prod=DELTARxns.temp_products()\n",
    "\n",
    "ABCD_output_df=DELTARxns.run_reaction()\n",
    "\n",
    "ABCD_output_df.to_csv(output_path)\n",
    "AllData.Add_Output(ABCD_output_df)"
   ]
  },
  {
   "cell_type": "code",
   "execution_count": null,
   "metadata": {},
   "outputs": [],
   "source": [
    "AllData.combined_df.to_csv('Notebook Outputs/Combined_DELs.csv')"
   ]
  }
 ],
 "metadata": {
  "kernelspec": {
   "display_name": "my-rdkit-env",
   "language": "python",
   "name": "python3"
  },
  "language_info": {
   "codemirror_mode": {
    "name": "ipython",
    "version": 3
   },
   "file_extension": ".py",
   "mimetype": "text/x-python",
   "name": "python",
   "nbconvert_exporter": "python",
   "pygments_lexer": "ipython3",
   "version": "3.9.4"
  },
  "orig_nbformat": 4,
  "vscode": {
   "interpreter": {
    "hash": "480c2ed7ebc299c9cdcb2960e0650b0aafce1f85d78203070332666d851fd4f2"
   }
  }
 },
 "nbformat": 4,
 "nbformat_minor": 2
}
