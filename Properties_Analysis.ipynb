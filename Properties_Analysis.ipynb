{
 "cells": [
  {
   "attachments": {},
   "cell_type": "markdown",
   "metadata": {},
   "source": [
    "-Generates violin plots showing the distribution of properties for a dataset. <br>\n",
    "-Performs Lipinski-Verber parameter analysis. <br>\n",
    "\n",
    "Input csv files must be structured using one compound per row<br>\n",
    "\n",
    "FOR GENERAL INPUTS <br>\n",
    "---csv file must contain the following columns : \"DEL\", \"ID\", \"smiles\"<br>\n",
    "\n",
    "FOR PRE-CALCULATED INPUTS<br>\n",
    "---csv file must contain a column called \"DEL\" <br>\n",
    "---csv file must contain at least one column with numerical property values<br>\n",
    "<br>\n",
    "GENERAL USE<br>\n",
    "-The first cell in this notebook must be run to import the csv data. It does not need to be re-run unless you have made changes to the csv file.<br>\n",
    "---By defualt, this notebook will use datafiles that are created using the GenerateLibrary notebook so be sure to run it first.<br>\n",
    "-Seperate violin plots will be grouped according to the unique entries in the \"DEL\" column <br>\n",
    "-This notebook uses RDkit to calulate the following properties:  <br>\n",
    "---MW, cLogP, H-Donors, H-Acceptors, Rotatable Bonds, Polar Surface Area<br>\n",
    "-Additional properties can be calculated in datawarrior and pasted into a csv file and used as an input dataset<br>\n",
    "-Feel free to add additional properties to suit your needs using the \"property\" variable at the top of each cell"
   ]
  },
  {
   "cell_type": "code",
   "execution_count": null,
   "metadata": {},
   "outputs": [],
   "source": [
    "import sys\n",
    "sys.path.append('./Modules')\n",
    "import numpy as np \n",
    "import pandas as pd\n",
    "import matplotlib as mpl\n",
    "import matplotlib.pyplot as plt\n",
    "import seaborn as sns\n",
    "\n",
    "from rdkit import Chem\n",
    "from rdkit.Chem import Descriptors\n",
    "from rdkit.Chem.MolStandardize import rdMolStandardize\n",
    "from rdkit.Chem import rdMolDescriptors\n",
    "\n",
    "\n",
    "\n",
    "def Property_Dataframe(property): \n",
    "    '''Generate a dataframe for a specfic property column in an input csv file'''\n",
    "    prop_df=pd.DataFrame() #create an empty df for holding the properties\n",
    "    Property=[]\n",
    "    #For each type in the csv \"MolType\" column:\n",
    "    for Del in DEL_list:\n",
    "        DEL_df=pd.DataFrame()\n",
    "        temp_df=data_df.loc[data_df['MolType'] == str(Del)] #create a temp dataframe for the current 'Del' iteration\n",
    "        temp_properties=np.array(temp_df[str(property)].values.tolist())  #extract the property values as np array\n",
    "        DEL_df[Del]=temp_properties #create the DEL_df for the current Del iteration\n",
    "        prop_df=pd.concat([prop_df, DEL_df], axis=1) #Concatonate the DEL_df to the main prop_df\n",
    "    return(prop_df)\n",
    "\n",
    "def Check_Lipinski_Verber_Params(df):\n",
    "    Lipinski_counter=0\n",
    "    Lipinski_params={'mol_wt':0, 'logp':0 ,'h_donors':0,'h_acceptors':0,'rotatable_bonds':0,'polar_surface_area':0, 'All':0}\n",
    "    passing_IDs=[]\n",
    "    passing_smiles=[]\n",
    "    passing_DEL=[]\n",
    "    druglike_df=pd.DataFrame()\n",
    "    for index, row in df.iterrows():\n",
    "        Lipinski_counter=0\n",
    "        if row['mol_wt'] <= 500:\n",
    "            Lipinski_params['mol_wt']+=1\n",
    "            Lipinski_counter+=1\n",
    "        if row['logp']<= 5:\n",
    "            Lipinski_params['logp']+=1\n",
    "            Lipinski_counter+=1\n",
    "        if row['h_donors'] <= 5:\n",
    "            Lipinski_params['h_donors']+=1\n",
    "            Lipinski_counter+=1\n",
    "        if row['h_acceptors'] <= 10:\n",
    "            Lipinski_params['h_acceptors']+=1\n",
    "            Lipinski_counter+=1\n",
    "        if row['rotatable_bonds'] <= 5:\n",
    "            Lipinski_params['rotatable_bonds']+=1\n",
    "            Lipinski_counter+=1\n",
    "        if row['polar_surface_area'] <=140:\n",
    "            Lipinski_params['polar_surface_area']+=1\n",
    "            Lipinski_counter+=1\n",
    "        if Lipinski_counter==6:\n",
    "            Lipinski_params['All']+=1\n",
    "            passing_DEL.append(row['DEL'])\n",
    "            passing_IDs.append(row['ID'])\n",
    "            passing_smiles.append(row['smiles'])\n",
    "    druglike_df['DEL']=passing_DEL    \n",
    "    druglike_df['ID']=passing_IDs\n",
    "    druglike_df['Smiles']=passing_smiles\n",
    "    return(Lipinski_params,druglike_df)\n",
    "\n",
    "def Create_Property_df():\n",
    "    smiles=data_df.Smiles.to_list()\n",
    "    Del=data_df.DEL.to_list()\n",
    "    IDs=data_df.ID.to_list()\n",
    "    property_dict={\n",
    "        'DEL':Del,\n",
    "        'ID':IDs,\n",
    "        'smiles':smiles,\n",
    "        'mol_wt':[], \n",
    "        'logp':[], \n",
    "        'h_donors':[],\n",
    "        'h_acceptors':[],\n",
    "        'rotatable_bonds':[],\n",
    "        'polar_surface_area':[],\n",
    "        'atoms':[],\n",
    "        'heavy_atoms':[],\n",
    "        'rings':[] }\n",
    "    \n",
    "    for mol in smiles:\n",
    "        #mol=rdMolStandardize.StandardizeSmiles(mol)\n",
    "        molecule=Chem.MolFromSmiles(mol)\n",
    "        \n",
    "        property_dict['mol_wt'].append(Descriptors.ExactMolWt(molecule))\n",
    "        property_dict['logp'].append(Descriptors.MolLogP(molecule))\n",
    "        property_dict['h_donors'].append(Descriptors.NumHDonors(molecule))\n",
    "        property_dict['h_acceptors'].append(Descriptors.NumHAcceptors(molecule))\n",
    "        property_dict['rotatable_bonds'].append(Descriptors.NumRotatableBonds(molecule))\n",
    "        property_dict['polar_surface_area'].append(Chem.QED.properties(molecule).PSA)\n",
    "        property_dict['atoms'].append(Chem.rdchem.Mol.GetNumAtoms(molecule))\n",
    "        property_dict['heavy_atoms'].append(Chem.rdchem.Mol.GetNumHeavyAtoms(molecule))\n",
    "        property_dict['rings'].append(Chem.rdMolDescriptors.CalcNumRings(molecule))\n",
    "\n",
    "    Property_df=pd.DataFrame(property_dict)\n",
    "    Property_df.to_csv('Properties.csv')\n",
    "    return(Property_df)\n",
    "\n",
    "def assemble_plot_df(property):\n",
    "    output_df=pd.DataFrame()\n",
    "    for type in DEL_list:\n",
    "        temp_df=prop_df.loc[prop_df['DEL'] == type]\n",
    "        property_vals=np.array(temp_df[property].values.tolist())\n",
    "        output_df[type]=property_vals\n",
    "    return(output_df)"
   ]
  },
  {
   "attachments": {},
   "cell_type": "markdown",
   "metadata": {},
   "source": [
    "Preprocessing"
   ]
  },
  {
   "cell_type": "code",
   "execution_count": null,
   "metadata": {},
   "outputs": [],
   "source": [
    "#Use for a csv file containing the smile you wish to calculate the properties for\n",
    "inputfile='Notebook Outputs/Combined_DELs.csv' \n",
    "\n",
    "#Use for a csv file already containing calculated properties\n",
    "#inputfile='Notebook Outputs/DEL_Properties.csv' \n",
    "\n",
    "\n",
    "#Create the dataframe to be used for fingerprinting \n",
    "data_df = pd.read_csv(inputfile)\n",
    "data_df['ROMol'] = data_df.Smiles.apply(Chem.MolFromSmiles)\n",
    "data_df['Smiles'] = data_df.ROMol.apply(lambda x: Chem.MolToSmiles(x, kekuleSmiles=True, isomericSmiles=False))\n",
    "\n",
    "dataset='Example Libraries' #Name for the dataset (used for creation of the plot titles)\n",
    "\n",
    "#Create a list of the unique members in the \"MolType\" column\n",
    "DEL_list=data_df.DEL.unique()"
   ]
  },
  {
   "attachments": {},
   "cell_type": "markdown",
   "metadata": {},
   "source": [
    "Calculate the properties for the smiles in the input file"
   ]
  },
  {
   "cell_type": "code",
   "execution_count": null,
   "metadata": {},
   "outputs": [],
   "source": [
    "prop_df=Create_Property_df()"
   ]
  },
  {
   "attachments": {},
   "cell_type": "markdown",
   "metadata": {},
   "source": [
    "Perform Lipinski-Verber Analysis (optional)"
   ]
  },
  {
   "cell_type": "code",
   "execution_count": null,
   "metadata": {},
   "outputs": [],
   "source": [
    "Lipinski_dict, all_pass_df=Check_Lipinski_Verber_Params(prop_df)\n",
    "total=len(prop_df)\n",
    "print('Compounds Analyzed:',total)\n",
    "for k,v in Lipinski_dict.items():\n",
    "    percent=round((v/total)*100,1)\n",
    "    print(k,v,str(percent)+'%')"
   ]
  },
  {
   "attachments": {},
   "cell_type": "markdown",
   "metadata": {},
   "source": [
    "Create a csv output for the calculated properties (optional)"
   ]
  },
  {
   "cell_type": "code",
   "execution_count": null,
   "metadata": {},
   "outputs": [],
   "source": [
    "prop_df.to_csv('Notebook Outputs/CalulatedProperties.csv')"
   ]
  },
  {
   "attachments": {},
   "cell_type": "markdown",
   "metadata": {},
   "source": [
    "Create output csv of compounds that pass all Lipinski-Verber parameters (optional)"
   ]
  },
  {
   "cell_type": "code",
   "execution_count": null,
   "metadata": {},
   "outputs": [],
   "source": [
    "all_pass_df.to_csv('Notebook Outputs/LipinskiCompounds.csv')"
   ]
  },
  {
   "attachments": {},
   "cell_type": "markdown",
   "metadata": {},
   "source": [
    "Create violin plots for molecular weight distributions"
   ]
  },
  {
   "cell_type": "code",
   "execution_count": null,
   "metadata": {},
   "outputs": [],
   "source": [
    "property='mol_wt'\n",
    "\n",
    "plot_df=assemble_plot_df(property)\n",
    "\n",
    "\n",
    "\n",
    "\n",
    "#Comment this line on if you are importing from a csv with pre-calculated values\n",
    "#prop_df=Property_Dataframe(property)\n",
    "\n",
    "ax = sns.violinplot(data=plot_df, scale='area', palette=sns.color_palette('tab10'), inner='box')\n",
    "\n",
    "sns.set(rc={'figure.figsize':(40, 25)})\n",
    "sns.set_context(\"paper\", rc={\"font.size\":8,\"axes.titlesize\":8,\"axes.labelsize\":5})  \n",
    "sns.set(font_scale=4)\n",
    "plt.title( str(dataset+' ('+property+')'), size =64 )\n",
    "\n",
    "sns.set_style('ticks')\n",
    "sns.despine()\n",
    "plt.savefig(\"Notebook Outputs/\"+str(dataset+'_'+property+'.svg'), bbox_inches='tight')"
   ]
  },
  {
   "attachments": {},
   "cell_type": "markdown",
   "metadata": {},
   "source": [
    "Create violin plots for logP distributions"
   ]
  },
  {
   "cell_type": "code",
   "execution_count": null,
   "metadata": {},
   "outputs": [],
   "source": [
    "property='logp'\n",
    "\n",
    "plot_df=assemble_plot_df(property)\n",
    "\n",
    "#Comment this line on if you are importing from a csv with pre-calculated values\n",
    "#prop_df=Property_Dataframe(property)\n",
    "\n",
    "ax = sns.violinplot(data=plot_df, scale='count', palette=sns.color_palette('tab10'), inner='box')\n",
    "\n",
    "sns.set(rc={'figure.figsize':(40, 25)})\n",
    "sns.set_context(\"paper\", rc={\"font.size\":8,\"axes.titlesize\":8,\"axes.labelsize\":5})  \n",
    "sns.set(font_scale=4)\n",
    "plt.title( str(dataset+' ('+property+')'), size =64 )\n",
    "\n",
    "sns.set_style('ticks')\n",
    "sns.despine()\n",
    "plt.savefig(str(dataset+'_'+property+'.svg'), bbox_inches='tight')"
   ]
  },
  {
   "attachments": {},
   "cell_type": "markdown",
   "metadata": {},
   "source": [
    "Create violin plots for H-donor distributions"
   ]
  },
  {
   "cell_type": "code",
   "execution_count": null,
   "metadata": {},
   "outputs": [],
   "source": [
    "property='h_donors'\n",
    "\n",
    "plot_df=assemble_plot_df(property)\n",
    "\n",
    "#Comment this line on if you are importing from a csv with pre-calculated values\n",
    "#prop_df=Property_Dataframe(property)\n",
    "\n",
    "ax = sns.violinplot(data=plot_df, scale='count', palette=sns.color_palette('tab10'), inner='box', bw=1)\n",
    "\n",
    "sns.set(rc={'figure.figsize':(40, 25)})\n",
    "sns.set_context(\"paper\", rc={\"font.size\":8,\"axes.titlesize\":8,\"axes.labelsize\":5})  \n",
    "sns.set(font_scale=4)\n",
    "plt.title( str(dataset+' ('+property+')'), size =64 )\n",
    "\n",
    "sns.set_style('ticks')\n",
    "sns.despine()\n",
    "plt.savefig(str(dataset+'_'+property+'.svg'), bbox_inches='tight')"
   ]
  },
  {
   "attachments": {},
   "cell_type": "markdown",
   "metadata": {},
   "source": [
    "Create violin plots for H-acceptor distributions"
   ]
  },
  {
   "cell_type": "code",
   "execution_count": null,
   "metadata": {},
   "outputs": [],
   "source": [
    "property='h_acceptors'\n",
    "\n",
    "plot_df=assemble_plot_df(property)\n",
    "\n",
    "#Comment this line on if you are importing from a csv with pre-calculated values\n",
    "#prop_df=Property_Dataframe(property)\n",
    "\n",
    "ax = sns.violinplot(data=plot_df, scale='count', palette=sns.color_palette('tab10'), inner='box', bw=1)\n",
    "\n",
    "sns.set(rc={'figure.figsize':(40, 25)})\n",
    "sns.set_context(\"paper\", rc={\"font.size\":8,\"axes.titlesize\":8,\"axes.labelsize\":5})  \n",
    "sns.set(font_scale=4)\n",
    "plt.title( str(dataset+' ('+property+')'), size =64 )\n",
    "\n",
    "sns.set_style('ticks')\n",
    "sns.despine()\n",
    "plt.savefig(str(dataset+'_'+property+'.svg'), bbox_inches='tight')"
   ]
  },
  {
   "attachments": {},
   "cell_type": "markdown",
   "metadata": {},
   "source": [
    "Create violin plots for rotatable bond distributions"
   ]
  },
  {
   "cell_type": "code",
   "execution_count": null,
   "metadata": {},
   "outputs": [],
   "source": [
    "property='rotatable_bonds'\n",
    "\n",
    "plot_df=assemble_plot_df(property)\n",
    "\n",
    "#Comment this line on if you are importing from a csv with pre-calculated values\n",
    "#prop_df=Property_Dataframe(property)\n",
    "\n",
    "ax = sns.violinplot(data=plot_df, scale='count', palette=sns.color_palette('tab10'), inner='box', bw=1)\n",
    "\n",
    "sns.set(rc={'figure.figsize':(40, 25)})\n",
    "sns.set_context(\"paper\", rc={\"font.size\":8,\"axes.titlesize\":8,\"axes.labelsize\":5})  \n",
    "sns.set(font_scale=4)\n",
    "plt.title( str(dataset+' ('+property+')'), size =64 )\n",
    "\n",
    "sns.set_style('ticks')\n",
    "sns.despine()\n",
    "plt.savefig(str(dataset+'_'+property+'.svg'), bbox_inches='tight')"
   ]
  },
  {
   "attachments": {},
   "cell_type": "markdown",
   "metadata": {},
   "source": [
    "Create violin plots for polar surface area distributions"
   ]
  },
  {
   "cell_type": "code",
   "execution_count": null,
   "metadata": {},
   "outputs": [],
   "source": [
    "property='polar_surface_area'\n",
    "\n",
    "plot_df=assemble_plot_df(property)\n",
    "\n",
    "#Comment this line on if you are importing from a csv with pre-calculated values\n",
    "#prop_df=Property_Dataframe(property)\n",
    "\n",
    "ax = sns.violinplot(data=plot_df, scale='count', palette=sns.color_palette('tab10'), inner='box',bw=1)\n",
    "\n",
    "sns.set(rc={'figure.figsize':(40, 25)})\n",
    "sns.set_context(\"paper\", rc={\"font.size\":8,\"axes.titlesize\":8,\"axes.labelsize\":5})  \n",
    "sns.set(font_scale=4)\n",
    "plt.title( str(dataset+' ('+property+')'), size =64 )\n",
    "\n",
    "sns.set_style('ticks')\n",
    "sns.despine()\n",
    "plt.savefig(str(dataset+'_'+property+'.svg'), bbox_inches='tight')"
   ]
  }
 ],
 "metadata": {
  "kernelspec": {
   "display_name": "my-rdkit-env",
   "language": "python",
   "name": "python3"
  },
  "language_info": {
   "codemirror_mode": {
    "name": "ipython",
    "version": 3
   },
   "file_extension": ".py",
   "mimetype": "text/x-python",
   "name": "python",
   "nbconvert_exporter": "python",
   "pygments_lexer": "ipython3",
   "version": "3.11.0"
  },
  "orig_nbformat": 4,
  "vscode": {
   "interpreter": {
    "hash": "480c2ed7ebc299c9cdcb2960e0650b0aafce1f85d78203070332666d851fd4f2"
   }
  }
 },
 "nbformat": 4,
 "nbformat_minor": 2
}
