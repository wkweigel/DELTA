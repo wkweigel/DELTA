{
 "cells": [
  {
   "attachments": {},
   "cell_type": "markdown",
   "metadata": {},
   "source": [
    "-Generates violin plots showing the distribution of properties for a dataset. <br>\n",
    "-Performs Lipinski-Verber parameter analysis. <br>\n",
    "\n",
    "Input csv files must be structured using one compound per row<br>\n",
    "\n",
    "FOR GENERAL INPUTS <br>\n",
    "---csv file must contain the following columns : \"DEL\", \"ID\", \"Smiles\"<br>\n",
    "\n",
    "FOR PRE-CALCULATED INPUTS<br>\n",
    "---csv file must contain a column called \"DEL\" <br>\n",
    "---csv file must contain at least one column with numerical property values<br>\n",
    "<br>\n",
    "GENERAL USE<br>\n",
    "-The first cell in this notebook must be run to import the csv data. It does not need to be re-run unless you have made changes to the csv file.<br>\n",
    "---By defualt, this notebook will use datafiles that are created using the GenerateLibrary notebook so be sure to run it first.<br>\n",
    "-Seperate violin plots will be grouped according to the unique entries in the \"DEL\" column <br>\n",
    "-This notebook uses RDkit to calulate the following properties:  <br>\n",
    "---MW, cLogP, H-Donors, H-Acceptors, Rotatable Bonds, Polar Surface Area<br>\n",
    "-Additional properties can be calculated in datawarrior and pasted into a csv file and used as an input dataset<br>\n",
    "-Additional properties can be added if they have been calulated from elsewhere using the \"property\" variable at the top of each cell"
   ]
  },
  {
   "cell_type": "code",
   "execution_count": null,
   "metadata": {},
   "outputs": [],
   "source": [
    "from Modules import MolProps\n",
    "import numpy as np \n",
    "import pandas as pd\n",
    "import matplotlib as mpl\n",
    "import matplotlib.pyplot as plt\n",
    "import seaborn as sns\n",
    "\n",
    "from rdkit import Chem\n",
    "from rdkit.Chem import Descriptors\n",
    "from rdkit.Chem.MolStandardize import rdMolStandardize\n",
    "from rdkit.Chem import rdMolDescriptors\n",
    "\n",
    "#Use for a csv file containing the smile you wish to calculate the properties for\n",
    "inputfile='Notebook Outputs/Combined_DELs.csv' \n",
    "\n",
    "#Name for the dataset (used for creation of the plot titles)\n",
    "dataset='Example Libraries' \n",
    "\n",
    "#Calculate the properties on instantiation for the compounds in the input csv file\n",
    "MolProps.CompoundProperties=MolProps.Properties(inputfile)\n",
    "\n",
    "\n"
   ]
  },
  {
   "attachments": {},
   "cell_type": "markdown",
   "metadata": {},
   "source": [
    "Perform Lipinski-Verber Analysis (optional)"
   ]
  },
  {
   "cell_type": "code",
   "execution_count": null,
   "metadata": {},
   "outputs": [],
   "source": [
    "Lipinski_dict, all_pass_df=MolProps.CompoundProperties.Check_Lipinski_Verber_Params()\n",
    "total=len(MolProps.CompoundProperties.Smiles)\n",
    "print('Compounds Analyzed:',total)\n",
    "for k,v in Lipinski_dict.items():\n",
    "    percent=round((v/total)*100,1)\n",
    "    print(k,v,str(percent)+'%')"
   ]
  },
  {
   "attachments": {},
   "cell_type": "markdown",
   "metadata": {},
   "source": [
    "Create output csv of compounds that pass all Lipinski-Verber parameters (optional)"
   ]
  },
  {
   "cell_type": "code",
   "execution_count": null,
   "metadata": {},
   "outputs": [],
   "source": [
    "all_pass_df.to_csv('Notebook Outputs/LipinskiCompounds.csv')"
   ]
  },
  {
   "attachments": {},
   "cell_type": "markdown",
   "metadata": {},
   "source": [
    "Create violin plots for molecular weight distributions"
   ]
  },
  {
   "cell_type": "code",
   "execution_count": null,
   "metadata": {},
   "outputs": [],
   "source": [
    "property='mol_wt'\n",
    "\n",
    "plot_df=MolProps.CompoundProperties.assemble_plot_df(property)\n",
    "\n",
    "\n",
    "#Comment this line on if you are importing from a csv with pre-calculated values\n",
    "#prop_df=Property_Dataframe(property)\n",
    "\n",
    "ax = sns.violinplot(data=plot_df, scale='area', palette=sns.color_palette('tab10'), inner='box')\n",
    "\n",
    "sns.set(rc={'figure.figsize':(40, 25)})\n",
    "sns.set_context(\"paper\", rc={\"font.size\":8,\"axes.titlesize\":8,\"axes.labelsize\":5})  \n",
    "sns.set(font_scale=4)\n",
    "plt.title( str(dataset+' ('+property+')'), size =64 )\n",
    "\n",
    "sns.set_style('ticks')\n",
    "sns.despine()\n",
    "plt.savefig(\"Notebook Outputs/\"+str(dataset+'_'+property+'.svg'), bbox_inches='tight')"
   ]
  },
  {
   "attachments": {},
   "cell_type": "markdown",
   "metadata": {},
   "source": [
    "Create violin plots for logP distributions"
   ]
  },
  {
   "cell_type": "code",
   "execution_count": null,
   "metadata": {},
   "outputs": [],
   "source": [
    "property='logp'\n",
    "\n",
    "plot_df=MolProps.CompoundProperties.assemble_plot_df(property)\n",
    "\n",
    "#Comment this line on if you are importing from a csv with pre-calculated values\n",
    "#prop_df=Property_Dataframe(property)\n",
    "\n",
    "ax = sns.violinplot(data=plot_df, scale='count', palette=sns.color_palette('tab10'), inner='box')\n",
    "\n",
    "sns.set(rc={'figure.figsize':(40, 25)})\n",
    "sns.set_context(\"paper\", rc={\"font.size\":8,\"axes.titlesize\":8,\"axes.labelsize\":5})  \n",
    "sns.set(font_scale=4)\n",
    "plt.title( str(dataset+' ('+property+')'), size =64 )\n",
    "\n",
    "sns.set_style('ticks')\n",
    "sns.despine()\n",
    "plt.savefig(str(dataset+'_'+property+'.svg'), bbox_inches='tight')"
   ]
  },
  {
   "attachments": {},
   "cell_type": "markdown",
   "metadata": {},
   "source": [
    "Create violin plots for H-donor distributions"
   ]
  },
  {
   "cell_type": "code",
   "execution_count": null,
   "metadata": {},
   "outputs": [],
   "source": [
    "property='h_donors'\n",
    "\n",
    "plot_df=MolProps.CompoundProperties.assemble_plot_df(property)\n",
    "\n",
    "#Comment this line on if you are importing from a csv with pre-calculated values\n",
    "#prop_df=Property_Dataframe(property)\n",
    "\n",
    "ax = sns.violinplot(data=plot_df, scale='count', palette=sns.color_palette('tab10'), inner='box', bw=1)\n",
    "\n",
    "sns.set(rc={'figure.figsize':(40, 25)})\n",
    "sns.set_context(\"paper\", rc={\"font.size\":8,\"axes.titlesize\":8,\"axes.labelsize\":5})  \n",
    "sns.set(font_scale=4)\n",
    "plt.title( str(dataset+' ('+property+')'), size =64 )\n",
    "\n",
    "sns.set_style('ticks')\n",
    "sns.despine()\n",
    "plt.savefig(str(dataset+'_'+property+'.svg'), bbox_inches='tight')"
   ]
  },
  {
   "attachments": {},
   "cell_type": "markdown",
   "metadata": {},
   "source": [
    "Create violin plots for H-acceptor distributions"
   ]
  },
  {
   "cell_type": "code",
   "execution_count": null,
   "metadata": {},
   "outputs": [],
   "source": [
    "property='h_acceptors'\n",
    "\n",
    "plot_df=MolProps.CompoundProperties.assemble_plot_df(property)\n",
    "\n",
    "#Comment this line on if you are importing from a csv with pre-calculated values\n",
    "#prop_df=Property_Dataframe(property)\n",
    "\n",
    "ax = sns.violinplot(data=plot_df, scale='count', palette=sns.color_palette('tab10'), inner='box', bw=1)\n",
    "\n",
    "sns.set(rc={'figure.figsize':(40, 25)})\n",
    "sns.set_context(\"paper\", rc={\"font.size\":8,\"axes.titlesize\":8,\"axes.labelsize\":5})  \n",
    "sns.set(font_scale=4)\n",
    "plt.title( str(dataset+' ('+property+')'), size =64 )\n",
    "\n",
    "sns.set_style('ticks')\n",
    "sns.despine()\n",
    "plt.savefig(str(dataset+'_'+property+'.svg'), bbox_inches='tight')"
   ]
  },
  {
   "attachments": {},
   "cell_type": "markdown",
   "metadata": {},
   "source": [
    "Create violin plots for rotatable bond distributions"
   ]
  },
  {
   "cell_type": "code",
   "execution_count": null,
   "metadata": {},
   "outputs": [],
   "source": [
    "property='rotatable_bonds'\n",
    "\n",
    "plot_df=MolProps.CompoundProperties.assemble_plot_df(property)\n",
    "\n",
    "#Comment this line on if you are importing from a csv with pre-calculated values\n",
    "#prop_df=Property_Dataframe(property)\n",
    "\n",
    "ax = sns.violinplot(data=plot_df, scale='count', palette=sns.color_palette('tab10'), inner='box', bw=1)\n",
    "\n",
    "sns.set(rc={'figure.figsize':(40, 25)})\n",
    "sns.set_context(\"paper\", rc={\"font.size\":8,\"axes.titlesize\":8,\"axes.labelsize\":5})  \n",
    "sns.set(font_scale=4)\n",
    "plt.title( str(dataset+' ('+property+')'), size =64 )\n",
    "\n",
    "sns.set_style('ticks')\n",
    "sns.despine()\n",
    "plt.savefig(str(dataset+'_'+property+'.svg'), bbox_inches='tight')"
   ]
  },
  {
   "attachments": {},
   "cell_type": "markdown",
   "metadata": {},
   "source": [
    "Create violin plots for polar surface area distributions"
   ]
  },
  {
   "cell_type": "code",
   "execution_count": null,
   "metadata": {},
   "outputs": [],
   "source": [
    "property='polar_surface_area'\n",
    "\n",
    "plot_df=MolProps.CompoundProperties.assemble_plot_df(property)\n",
    "\n",
    "#Comment this line on if you are importing from a csv with pre-calculated values\n",
    "#prop_df=Property_Dataframe(property)\n",
    "\n",
    "ax = sns.violinplot(data=plot_df, scale='count', palette=sns.color_palette('tab10'), inner='box',bw=1)\n",
    "\n",
    "sns.set(rc={'figure.figsize':(40, 25)})\n",
    "sns.set_context(\"paper\", rc={\"font.size\":8,\"axes.titlesize\":8,\"axes.labelsize\":5})  \n",
    "sns.set(font_scale=4)\n",
    "plt.title( str(dataset+' ('+property+')'), size =64 )\n",
    "\n",
    "sns.set_style('ticks')\n",
    "sns.despine()\n",
    "plt.savefig(str(dataset+'_'+property+'.svg'), bbox_inches='tight')"
   ]
  }
 ],
 "metadata": {
  "kernelspec": {
   "display_name": "my-rdkit-env",
   "language": "python",
   "name": "python3"
  },
  "language_info": {
   "codemirror_mode": {
    "name": "ipython",
    "version": 3
   },
   "file_extension": ".py",
   "mimetype": "text/x-python",
   "name": "python",
   "nbconvert_exporter": "python",
   "pygments_lexer": "ipython3",
   "version": "3.11.0"
  },
  "orig_nbformat": 4,
  "vscode": {
   "interpreter": {
    "hash": "480c2ed7ebc299c9cdcb2960e0650b0aafce1f85d78203070332666d851fd4f2"
   }
  }
 },
 "nbformat": 4,
 "nbformat_minor": 2
}
