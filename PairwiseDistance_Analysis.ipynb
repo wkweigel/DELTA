{
 "cells": [
  {
   "attachments": {},
   "cell_type": "markdown",
   "metadata": {},
   "source": [
    "This notebook calculates pairwise distances and generates violin plots showing the cooresponding distance distributions. <br>\n",
    "The input csv file must contain, at minimum, the specifed column names:<br>\n",
    "---For Tanimoto: Columns titled \"DEL\" and \"Smiles\"<br>\n",
    "---For Euclidean, Manhattan, Cosine, etc: Columns titled \"DEL\", \"x1\", and \"x2\"<br>"
   ]
  },
  {
   "cell_type": "code",
   "execution_count": null,
   "metadata": {},
   "outputs": [],
   "source": [
    "#Import Dependancies\n",
    "import numpy as np \n",
    "import pandas as pd\n",
    "\n",
    "from rdkit import Chem\n",
    "from rdkit import DataStructs\n",
    "from rdkit.Chem import AllChem\n",
    "from rdkit import DataStructs\n",
    "from sklearn.metrics import pairwise_distances\n",
    "import matplotlib.pyplot as plt\n",
    "from matplotlib.colors import ListedColormap\n",
    "import seaborn as sns\n",
    "\n",
    "from tqdm import tqdm\n",
    "tqdm.pandas()\n",
    "\n",
    "\n",
    "inputfile='Notebook Outputs/gtm_output.csv'\n",
    "\n",
    "#Create the dataframe to be used for fingerprinting \n",
    "data_df = pd.read_csv(inputfile)\n",
    "\n",
    "#Create a list of members in the \"MolType\" column\n",
    "DEL_list=data_df.DEL.unique()\n",
    "\n",
    "#Create a list for holding the pairwise distances\n",
    "distance_list=[]\n",
    "\n",
    "\n",
    "def Construct_PairWise_DistanceList(metric,n):\n",
    "    '''Use an input csv with 'x1' and 'x2' coordinate columns and calculate pairwise distances with the given metric.\n",
    "    \n",
    "    Parameters:\n",
    "    ==========\n",
    "    metric: The distance metrics to use with sklearn. Examples of valid values:'cityblock', 'cosine', 'euclidean', 'manhattan', 'braycurtis', 'canberra', 'chebyshev', 'correlation', 'dice', 'hamming', 'jaccard'\n",
    "\n",
    "    Returns:\n",
    "    ==========\n",
    "    A dataframe of pairwise distances for each DEL in the input file\n",
    "    \n",
    "    \n",
    "    '''\n",
    "    dist_df=pd.DataFrame() #create an empty df for holding the distances\n",
    "\n",
    "    #For each type in the csv \"DEL\" column:\n",
    "    for type in DEL_list:\n",
    "        temp_df=data_df.loc[data_df['DEL'] == type].sample(n=n) #create a temp dataframe for the current 'DEL' iteration for n random rows \n",
    "        x_vals=np.array(temp_df['x1'].values.tolist())  #extract the x values as np array\n",
    "        y_vals=np.array(temp_df['x2'].values.tolist()) #extract the y values as np array\n",
    "        xy_array=np.stack([x_vals, y_vals],axis=-1) #create the x,y coordinate array\n",
    "        distances=pairwise_distances(xy_array,xy_array,metric=metric) #calulate the pairwise distances for the xy array\n",
    "        distances_list=distances.tolist() #convert the ndarray to a list of lists\n",
    "        FinalList = list(np.concatenate(distances_list).flat) #Flatten the list of lists into 1D list\n",
    "        dist_df[type]=FinalList #Add the final list to the distance dataframe\n",
    "    return(dist_df)\n",
    "\n",
    "# Defines a function to calculate Tanimoto similarities among the molecules\n",
    "def pairwise_similarity_list(fingerprints_list):\n",
    "    \"\"\"\n",
    "    Parameters:\n",
    "    ==========\n",
    "    Input: List of RDkit fingerprint objects\n",
    "\n",
    "    Returns:\n",
    "    ==========\n",
    "    List of pairwise tanimoto distances\n",
    "\n",
    "    \"\"\"\n",
    "    global similarity_list\n",
    "    similarity_list = [] #create the empty list\n",
    "    for i in range(1, fp_len):\n",
    "            tanimoto = DataStructs.BulkTanimotoSimilarity(fp_list[i], fp_list[:i]) #calulate the pairwise tanimoto distances\n",
    "            similarity_list.append(tanimoto)  #fill the lower diagonal\n",
    "    AllDistances = list(np.concatenate(similarity_list).flat) #Flatten the list of lists into 1D list\n",
    "    return AllDistances\n",
    "\n",
    "# Defines a function to calculate ECFP fingerprints\n",
    "def Get_ECFP(smiles: str, radius: int, nbits: int):\n",
    "    \"\"\"\n",
    "    Parameters:\n",
    "    ==========\n",
    "    smiles: smiles string to be fingerprinted\n",
    "    radius: the circular morgan radius\n",
    "    nbits: the number of bits to use for hashing\n",
    "\n",
    "    Returns:\n",
    "    ==========\n",
    "    hashed ECFP RDkit fingerprint object\n",
    "\n",
    "    \"\"\"\n",
    "    mol = Chem.MolFromSmiles(smiles)\n",
    "    fp = AllChem.GetHashedMorganFingerprint(mol, radius, nbits)\n",
    "    return fp\n",
    "\n",
    "# Defines a function to create a dataframe containing ecfp tanimoto distances\n",
    "def Get_ECFP6_Tanimoto_DistanceList(samples):\n",
    "    '''Calculate ecfp6 fingerprints and use them to calculate the tanimoto distances.\n",
    "\n",
    "    Parameters:\n",
    "    ==========\n",
    "    samples: The number of random compounds from each DEL in the input file to use for distance calulations.\n",
    "\n",
    "    Returns:\n",
    "    ==========\n",
    "    A dataframe of pairwise distances for each DEL in the input file\n",
    "    '''\n",
    "    dist_df=pd.DataFrame()\n",
    "    global fp_list\n",
    "    global fp_len\n",
    "    #For each type in the csv \"MolType\" column:\n",
    "    for DEL_name in DEL_list:\n",
    "        temp_df=data_df.loc[data_df['DEL'] == DEL_name].sample(n=samples) #create a temp dataframe for the current 'DEL' iteration for n random rows \n",
    "        fp_list = [Get_ECFP(smiles= x, radius= 3, nbits= 1024) for x in temp_df['Smiles']] #Calculate the ECFP6 fingerprints\n",
    "        fp_len = len(fp_list)\n",
    "        print(str(DEL_name), fp_len, 'cpds Fingerprinted')\n",
    "        tanimoto_distances=pairwise_similarity_list(fp_list) #Calculate the Tanimoto distances for the fingerprints\n",
    "        dist_df[DEL_name]=tanimoto_distances #Add the list of distances to the distance dataframe\n",
    "    return(dist_df)\n",
    "\n",
    "\n"
   ]
  },
  {
   "attachments": {},
   "cell_type": "markdown",
   "metadata": {},
   "source": [
    "Pairwise Tanimoto Distribution"
   ]
  },
  {
   "cell_type": "code",
   "execution_count": null,
   "metadata": {},
   "outputs": [],
   "source": [
    "df_distances=Get_ECFP6_Tanimoto_DistanceList(1000)\n",
    "ax = sns.violinplot(data=df_distances, scale='count', palette=sns.color_palette('tab10'))\n",
    "#ax.set(ylim=(0.4, 1))\n",
    "sns.set(rc={'figure.figsize':(50, 25)})\n",
    "sns.set_context(\"paper\", rc={\"font.size\":5,\"axes.titlesize\":8,\"axes.labelsize\":5})  \n",
    "sns.set(font_scale=4)\n",
    "plt.title( \"Pairwise Tanimoto Distance Distributions\" , size =64 )\n",
    "#sns.set(title='Pairwise Euclidean Distance Distributions')\n",
    "sns.set_style('ticks')\n",
    "sns.despine()\n",
    "plt.savefig('Notebook Outputs/distance_distributions_Tanimoto_AllDELs.svg', bbox_inches='tight')"
   ]
  },
  {
   "attachments": {},
   "cell_type": "markdown",
   "metadata": {},
   "source": [
    "Pairwise Euclidean Distances <br><br>\n",
    "&nbsp;&nbsp;&nbsp;&nbsp;&nbsp;&nbsp;see the sklearn documentation for more metrics and information:<br>\n",
    "&nbsp;&nbsp;&nbsp;&nbsp;&nbsp;&nbsp;https://scikit-learn.org/stable/modules/generated/sklearn.metrics.pairwise_distances.html<br>\n",
    "NOTE: the input file must contain a set of cartesian coordinates to use these distance meterics.<br>\n",
    "&nbsp;&nbsp;&nbsp;&nbsp;&nbsp;&nbsp;The output csv from the \"GTM_Analysis\" or \"PCA_Analysis\" notebooks contain (x,y) coordinates. Obtain the GTM or PCA output first and change the inputfile path accordingly."
   ]
  },
  {
   "cell_type": "code",
   "execution_count": null,
   "metadata": {},
   "outputs": [],
   "source": [
    "df_distances=Construct_PairWise_DistanceList(metric='euclidean',n=1000)\n",
    "ax = sns.violinplot(data=df_distances, scale='count', palette=sns.color_palette('tab10'),bw=0.1, inner='box')\n",
    "ax.set(ylim=(0, 2))\n",
    "sns.set(rc={'figure.figsize':(40, 25)})\n",
    "sns.set_context(\"paper\", rc={\"font.size\":8,\"axes.titlesize\":8,\"axes.labelsize\":5})  \n",
    "sns.set(font_scale=4)\n",
    "plt.title( \"Pairwise Euclidean Distance Distributions\" , size =64 )\n",
    "#sns.set(title='Pairwise Euclidean Distance Distributions')\n",
    "sns.set_style('ticks')\n",
    "sns.despine()\n",
    "plt.savefig('Notebook Outputs/distance_distributions_Euclidean_AllDELs.svg', bbox_inches='tight')"
   ]
  },
  {
   "attachments": {},
   "cell_type": "markdown",
   "metadata": {},
   "source": [
    "Pairwise Manhattan Distance"
   ]
  },
  {
   "cell_type": "code",
   "execution_count": null,
   "metadata": {},
   "outputs": [],
   "source": [
    "df_distances=Construct_PairWise_DistanceList(metric='manhattan',n=1000)\n",
    "ax = sns.violinplot(data=df_distances, scale='count', palette=sns.color_palette('tab10'))\n",
    "\n",
    "sns.set(rc={'figure.figsize':(40, 25)})\n",
    "sns.set_context(\"paper\", rc={\"font.size\":8,\"axes.titlesize\":8,\"axes.labelsize\":5})  \n",
    "sns.set(font_scale=4)\n",
    "plt.title( \"Pairwise Manhattan Distance Distributions\" , size =64 )\n",
    "#sns.set(title='Pairwise Euclidean Distance Distributions')\n",
    "sns.set_style('ticks')\n",
    "sns.despine()\n",
    "plt.savefig('Notebook Outputs/distance_distributions_Manhattan_AllDELs.svg', bbox_inches='tight')"
   ]
  },
  {
   "attachments": {},
   "cell_type": "markdown",
   "metadata": {},
   "source": [
    "Pairwise Cosine Similarity"
   ]
  },
  {
   "cell_type": "code",
   "execution_count": null,
   "metadata": {},
   "outputs": [],
   "source": [
    "df_distances=Construct_PairWise_DistanceList(metric='cosine',n=999)\n",
    "ax = sns.violinplot(data=df_distances, scale='count', palette=sns.color_palette('tab10'))\n",
    "\n",
    "sns.set(rc={'figure.figsize':(40, 25)})\n",
    "sns.set_context(\"paper\", rc={\"font.size\":8,\"axes.titlesize\":8,\"axes.labelsize\":5})  \n",
    "sns.set(font_scale=4)\n",
    "plt.title( \"Pairwise Cosine Similarity Distributions\" , size =64 )\n",
    "#sns.set(title='Pairwise Euclidean Distance Distributions')\n",
    "sns.set_style('ticks')\n",
    "sns.despine()\n",
    "plt.savefig('Notebook Outputs/distance_distributions_Cosine_AllDELs.svg', bbox_inches='tight')"
   ]
  }
 ],
 "metadata": {
  "kernelspec": {
   "display_name": "my-rdkit-env",
   "language": "python",
   "name": "python3"
  },
  "language_info": {
   "codemirror_mode": {
    "name": "ipython",
    "version": 3
   },
   "file_extension": ".py",
   "mimetype": "text/x-python",
   "name": "python",
   "nbconvert_exporter": "python",
   "pygments_lexer": "ipython3",
   "version": "3.11.0"
  },
  "orig_nbformat": 4,
  "vscode": {
   "interpreter": {
    "hash": "480c2ed7ebc299c9cdcb2960e0650b0aafce1f85d78203070332666d851fd4f2"
   }
  }
 },
 "nbformat": 4,
 "nbformat_minor": 2
}
