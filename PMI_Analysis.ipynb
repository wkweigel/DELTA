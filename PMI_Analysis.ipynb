{
 "cells": [
  {
   "attachments": {},
   "cell_type": "markdown",
   "metadata": {},
   "source": [
    "Import the neccessary libraries"
   ]
  },
  {
   "cell_type": "code",
   "execution_count": null,
   "metadata": {},
   "outputs": [],
   "source": [
    "import ternary\n",
    "from ternary.helpers import simplex_iterator\n",
    "import pandas as pd\n",
    "import numpy as np\n",
    "from rdkit import Chem\n",
    "from rdkit.Chem import AllChem, rdMolDescriptors\n",
    "import matplotlib\n",
    "from matplotlib import pyplot as plt\n",
    "from tqdm import tqdm"
   ]
  },
  {
   "attachments": {},
   "cell_type": "markdown",
   "metadata": {},
   "source": [
    "Specify the inputs"
   ]
  },
  {
   "cell_type": "code",
   "execution_count": null,
   "metadata": {},
   "outputs": [],
   "source": [
    "#csv file should have at least two populated columns titled \"ID\" and \"Smiles\"\n",
    "input_filepath = 'Notebook Outputs/Combined_DELs.csv' \n"
   ]
  },
  {
   "attachments": {},
   "cell_type": "markdown",
   "metadata": {},
   "source": [
    "Create the ternary list of Normalized PMI Ratios"
   ]
  },
  {
   "cell_type": "code",
   "execution_count": null,
   "metadata": {},
   "outputs": [],
   "source": [
    "\n",
    "#Process the input csv file\n",
    "df=pd.read_csv(input_filepath) \n",
    "DEL_list=df.DEL.unique() #Create a list of members in the \"DEL\" column\n",
    "libraries=df['DEL']\n",
    "IDs=df['ID']\n",
    "Smiles=df['Smiles']\n",
    "library_list=libraries.values.tolist()\n",
    "ID_list=IDs.values.tolist()\n",
    "smiles_list=Smiles.values.tolist()\n",
    "\n",
    "#Initialize Error Counters\n",
    "optimization_errors=0\n",
    "conformer_errors=0\n",
    "\n",
    "#For each compound, perform a 3D UFF optimization and then calculate the normalized PMI ratios\n",
    "print('Queued ' + str(len(Smiles))+ ' compounds for optimization.')\n",
    "print('This will take a few minutes.')\n",
    "print('Performing 3D UFF optimizations...')\n",
    "table=pd.DataFrame()\n",
    "for i,smiles in tqdm(enumerate(smiles_list)):\n",
    "    library=library_list[i]\n",
    "    id=ID_list[i]\n",
    "    mol=Chem.MolFromSmiles(smiles)\n",
    "    mol = Chem.AddHs(mol)\n",
    "    Chem.SanitizeMol(mol)\n",
    "    status = AllChem.EmbedMolecule(mol)\n",
    "    try:\n",
    "        status = AllChem.UFFOptimizeMolecule(mol)\n",
    "    except ValueError:\n",
    "        optimization_errors+=1\n",
    "        continue\n",
    "    try:\n",
    "        conformer = mol.GetConformer()\n",
    "    except ValueError:\n",
    "        conformer_errors+=1\n",
    "        continue\n",
    "    table.loc[i,'DEL']=library\n",
    "    table.loc[i,'ID']=id\n",
    "    table.loc[i,'NPR1']=rdMolDescriptors.CalcNPR1(mol)\n",
    "    table.loc[i,'NPR2']=rdMolDescriptors.CalcNPR2(mol)\n",
    "\n",
    "ternary_list=[]\n",
    "\n",
    "#Use the NPR values to calculate values for sphere-, disk-, and rod-likeness\n",
    "for npr1, npr2 in zip(table['NPR1'], table['NPR2']):\n",
    "    if np.isnan(npr1): continue #skip values that are not numbers\n",
    "    npr1=round(npr1, 2)\n",
    "    npr2=round(npr2, 2)\n",
    "    sphere_likeness = (npr1+npr2)-1\n",
    "    rod_likeness =  (npr2-npr1)\n",
    "    disc_likeness = 2-(2*npr2)\n",
    "    ternary_list.append([sphere_likeness, disc_likeness, rod_likeness])\n",
    "\n",
    "#Organize the data into a dataframe for optional output\n",
    "for i, [sphere_likeness, disc_likeness, rod_likeness] in enumerate(ternary_list):\n",
    "    table.loc[i,'Sphere']=sphere_likeness\n",
    "    table.loc[i,'Rod']=rod_likeness\n",
    "    table.loc[i,'Disk']=disc_likeness\n",
    "input_len=len(smiles_list)\n",
    "output_len=len(ternary_list)\n",
    "print (( str(input_len)) + \" / \" + str(output_len) + \" successful completions\")\n",
    "print ('Skipped optimization errors: ' + str(optimization_errors))\n",
    "print ('Skipped conformer errors: ' + str(conformer_errors))"
   ]
  },
  {
   "attachments": {},
   "cell_type": "markdown",
   "metadata": {},
   "source": [
    "Create a csv output of the NPR values (optional)"
   ]
  },
  {
   "cell_type": "code",
   "execution_count": null,
   "metadata": {},
   "outputs": [],
   "source": [
    "table.to_csv('Notebook Outputs/PMI_Test.csv')"
   ]
  },
  {
   "attachments": {},
   "cell_type": "markdown",
   "metadata": {},
   "source": [
    "Generate the Plots"
   ]
  },
  {
   "cell_type": "code",
   "execution_count": null,
   "metadata": {},
   "outputs": [],
   "source": [
    "\n",
    "#Add the ternary data to a dataframe grouped by DEL\n",
    "ternary_df=pd.DataFrame()\n",
    "for type in DEL_list:\n",
    "        temp_ternary_list=[]\n",
    "        temp_df=table.loc[table['DEL'] == type]\n",
    "        sphere=temp_df['Sphere'].values.tolist()\n",
    "        disc=temp_df['Disk'].values.tolist()\n",
    "        rod=temp_df['Rod'].values.tolist()\n",
    "        temp_ternary_list=list(zip(sphere, disc, rod))\n",
    "\n",
    "        output_filepath=\"Notebook Outputs/\"+str(type) + \"Plot.eps\"\n",
    "        title=str(type) + \" PMI Plot\"\n",
    "\n",
    "        # Split data into bins with width 1/scale\n",
    "        scale = 25 # number of bins along each axis\n",
    "        bins = np.linspace(0,1,scale+1)[1:]\n",
    "\n",
    "        # digitize returns the index of the bin to which a value was assigned\n",
    "        x_inds = list(np.digitize(np.array([i[0] for i in temp_ternary_list]), bins))\n",
    "        y_inds = list(np.digitize(np.array([i[1] for i in temp_ternary_list]), bins))\n",
    "        z_inds = list(np.digitize(np.array([i[2] for i in temp_ternary_list]), bins))\n",
    "        ternary_list_binned = list(zip(x_inds, y_inds, z_inds))\n",
    "\n",
    "        # Populate ternary_dict with {(i,j,k):frequency}\n",
    "        ternary_dict = dict()\n",
    "\n",
    "        # Initiate all possible (i,j,k) vertices (only keep i and j as k is implied by these)\n",
    "        for (i,j,k) in simplex_iterator(scale):\n",
    "                ternary_dict[(i,j)] = 0\n",
    "\n",
    "        # Count number of occurences of each (i,j,k) in binned data\n",
    "        for i,j,k in ternary_list_binned:\n",
    "                ternary_dict[(i,j)]+=1\n",
    "\n",
    "        figure, ax = plt.subplots()\n",
    "\n",
    "        tax = ternary.TernaryAxesSubplot(ax=ax, scale=scale)\n",
    "\n",
    "        offset=0\n",
    "\n",
    "        # Sizing, borders and title\n",
    "        plt.axis('off') #turn border off\n",
    "        figure.set_size_inches(5, 4)\n",
    "        tax.set_title(title, fontsize=12)\n",
    "        tax.boundary(linewidth=1.5)\n",
    "\n",
    "        # Get colormap with white below vmin (eps)\n",
    "        cmap_whiteZero =matplotlib.colormaps['Spectral_r']\n",
    "        #cmap_whiteZero = matplotlib.cm.get_cmap('Spectral_r')\n",
    "        cmap_whiteZero.set_under('w')\n",
    "        eps = np.spacing(0.0)\n",
    "\n",
    "        # Plot ternary heatmap\n",
    "        tax.heatmap(ternary_dict, style=\"t\", cmap=cmap_whiteZero, vmin=eps, colorbar=True) # style can be t, d, or h (see documentation)\n",
    "        figure.gca().invert_yaxis() #turn plot upside down\n",
    "\n",
    "        # Save figure \n",
    "        plt.savefig(output_filepath)"
   ]
  }
 ],
 "metadata": {
  "kernelspec": {
   "display_name": "my-rdkit-39env",
   "language": "python",
   "name": "python3"
  },
  "language_info": {
   "codemirror_mode": {
    "name": "ipython",
    "version": 3
   },
   "file_extension": ".py",
   "mimetype": "text/x-python",
   "name": "python",
   "nbconvert_exporter": "python",
   "pygments_lexer": "ipython3",
   "version": "3.10.4"
  },
  "vscode": {
   "interpreter": {
    "hash": "e366512f30e682182766d08f53ea8d4cdd294e5567b4ceb9191014b5bc5ef3fc"
   }
  }
 },
 "nbformat": 4,
 "nbformat_minor": 0
}
